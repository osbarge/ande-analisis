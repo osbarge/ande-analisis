{
 "cells": [
  {
   "cell_type": "code",
   "execution_count": null,
   "id": "meaningful-reggae",
   "metadata": {},
   "outputs": [],
   "source": [
    "import pandas as pd\n",
    "from datetime import timedelta"
   ]
  },
  {
   "cell_type": "code",
   "execution_count": null,
   "id": "fiscal-allen",
   "metadata": {},
   "outputs": [],
   "source": [
    "# setear parametros/variables\n",
    "p_meses = [\n",
    "    \"enero\", \"febrero\", \"marzo\", \n",
    "    \"abril\",\"mayo\", \"junio\", \n",
    "    \"julio\", \"agosto\", \"setiembre\", \n",
    "    \"octubre\", \"noviembre\", \"diciembre\"\n",
    "    ]\n",
    "p_anio = \"2020\"\n",
    "csv_columns = ['PRIMARIO', 'FUERA DE SERVICIO', 'REPOSICION', 'TIPO DE EVENTO', 'ESTADO DEL CLIMA', 'OBSERVACION']\n",
    "duracion_horas_recierre = 2 # numero arbitrario de horas a asignar a las reposiciones indicadas como \"recierre\""
   ]
  },
  {
   "cell_type": "code",
   "execution_count": null,
   "id": "hidden-horse",
   "metadata": {},
   "outputs": [],
   "source": [
    "# Considerar Recierre como 2 horas\n",
    "def transform_recierre(fuera_servicio, reposicion):\n",
    "    if reposicion.lower().strip() != \"recierre\":\n",
    "        return reposicion\n",
    "    \n",
    "    reposicion = pd.to_datetime(fuera_servicio, format=\"%d/%m/%Y %H:%M\", errors='coerce') + timedelta(hours=duracion_horas_recierre)\n",
    "    return reposicion.strftime(\"%d/%m/%Y %H:%M\")"
   ]
  },
  {
   "cell_type": "code",
   "execution_count": null,
   "id": "reserved-account",
   "metadata": {},
   "outputs": [],
   "source": [
    "def normalizar_barrios(df1):\n",
    "    # Normalizar nombres de barrios\n",
    "    df1['BARRIO'] = df1['BARRIO'].apply(lambda x: x.replace(\"\\r\", \" \"))\n",
    "    df1['BARRIO'] = df1['BARRIO'].apply(lambda x: x.replace(\"\\n\", \" \"))\n",
    "    df1['BARRIO'] = df1['BARRIO'].apply(lambda x: x.replace(\"  \", \" \"))\n",
    "    df1['BARRIO'] = df1['BARRIO'].apply(lambda x: x.strip())\n",
    "    df1['BARRIO'] = df1['BARRIO'].apply(lambda x: x.replace(\"Hiódromo\", \"Hipódromo\"))\n",
    "    df1['BARRIO'] = df1['BARRIO'].apply(lambda x: x.replace(\"Madame Lych\", \"Madame Lynch\"))\n",
    "    df1['BARRIO'] = df1['BARRIO'].apply(lambda x: x.replace(\"Dr. Gaspar R. de Francia\", \"Dr. Gaspar Rodríguez de Francia\"))\n",
    "    df1['BARRIO'] = df1['BARRIO'].apply(lambda x: x.replace(\"Rodriguez\", \"Rodríguez\"))\n",
    "    df1['BARRIO'] = df1['BARRIO'].apply(lambda x: x.replace(\"Mcal. Francisco.S. López\", \"Mcal. Francisco S. López\"))\n",
    "    df1['BARRIO'] = df1['BARRIO'].apply(lambda x: x.replace('Mcal F. S. López', \"Mcal. Francisco S. López\"))\n",
    "    df1['BARRIO'] = df1['BARRIO'].apply(lambda x: x.replace('Francisco.', 'Francisco'))\n",
    "    df1['BARRIO'] = df1['BARRIO'].apply(lambda x: x.replace(\"Mbocayty\", \"Mbocayaty\"))\n",
    "    df1['BARRIO'] = df1['BARRIO'].apply(lambda x: x.replace(\"Mobocayaty\", \"Mbocayaty\"))\n",
    "    df1['BARRIO'] = df1['BARRIO'].apply(lambda x: x.replace(\"Cañada de Ybyray\", \"Cañada Ybyray\"))\n",
    "    df1['BARRIO'] = df1['BARRIO'].apply(lambda x: x.replace(\"Nazaret\", \"Nazareth\"))\n",
    "    df1['BARRIO'] = df1['BARRIO'].apply(lambda x: x.replace(\"Nazarethh\", \"Nazareth\"))\n",
    "    df1['BARRIO'] = df1['BARRIO'].apply(lambda x: x.replace(\"Carlos. A. López\", \"Carlos A. López\"))\n",
    "    df1['BARRIO'] = df1['BARRIO'].apply(lambda x: x.replace(\"Petirosi\", \"Pettirossi\"))\n",
    "    df1['BARRIO'] = df1['BARRIO'].apply(lambda x: x.replace(\"Cristobal\", \"Cristóbal\"))\n",
    "    df1['BARRIO'] = df1['BARRIO'].apply(lambda x: x.replace(\"Santisima\", \"Santísima\"))\n",
    "    df1['BARRIO'] = df1['BARRIO'].apply(lambda x: x.replace(\"Mocayaty\", \"Mbocayaty\"))\n",
    "    df1['BARRIO'] = df1['BARRIO'].apply(lambda x: x.replace(\"Mcal. José F. Estigarribia\",\"Mcal. Estigarribia\"))\n",
    "    df1['BARRIO'] = df1['BARRIO'].apply(lambda x: x.replace(\"ybyray\", \"Ybyray\"))\n",
    "    df1['BARRIO'] = df1['BARRIO'].apply(lambda x: x.rstrip(\".\"))\n",
    "    return df1\n"
   ]
  },
  {
   "cell_type": "code",
   "execution_count": null,
   "id": "supreme-navigator",
   "metadata": {},
   "outputs": [],
   "source": [
    "for m, p_mes in enumerate(p_meses):\n",
    "    input_file = f\"{p_anio}{m+1:02d}\"\n",
    "    \n",
    "    # leer archivos\n",
    "    df1 = pd.read_csv(fr\"../data/{input_file}.csv\", encoding=\"ISO-8859-1\")\n",
    "    \n",
    "    # Transformar datasets\n",
    "    df1n = df1.BARRIOS.str.rstrip(',').str.rstrip(',.').str.split(',').apply(pd.Series)  # break df.BARRIOS into columns\n",
    "    df1n.index = df1.set_index(csv_columns).index\n",
    "    df1 = df1n.stack().reset_index(csv_columns)  # stack and reset_index\n",
    "    df1.columns = csv_columns  + ['BARRIO']\n",
    "    \n",
    "    # Lidiar con \"recierre\"\n",
    "    df1['REPOSICION'] = df1.apply(lambda row: transform_recierre(row['FUERA DE SERVICIO'], row['REPOSICION']), axis=1)\n",
    "    \n",
    "    # Agregar DURACION\n",
    "    df1['DURACION'] = df1[[\"FUERA DE SERVICIO\", \"REPOSICION\"]].apply(lambda x: (pd.to_datetime(x[1], format=\"%d/%m/%Y %H:%M\", errors='coerce') - pd.to_datetime(x[0], format=\"%d/%m/%Y %H:%M\", errors='coerce')), axis=1)\n",
    "    \n",
    "    # Agregar Duración en Segundos\n",
    "    df1['DURACION SEGS'] = df1['DURACION'].apply(lambda x: x.seconds)\n",
    "    \n",
    "    # Normalizar PRIMARIO\n",
    "    df1['PRIMARIO'] = df1['PRIMARIO'].apply(lambda x: x.rstrip(\".\"))\n",
    "    \n",
    "    # \n",
    "    df1['OBSERVACION'] = df1['OBSERVACION'].apply(lambda x: str(x).replace(\"\\r\", \" \"))\n",
    "    df1['OBSERVACION'] = df1['OBSERVACION'].apply(lambda x: str(x).replace(\"\\n\", \" \"))\n",
    "    \n",
    "    df1 = normalizar_barrios(df1)\n",
    "    \n",
    "    ## Verificar datos\n",
    "    unique_barrios = sorted(list(df1[\"BARRIO\"].unique()))\n",
    "    # debe haber 69 o 68 barrios como max\n",
    "    print(f\"{input_file} produjo más de 69 barrios\") if len(aux)>69 else None\n",
    "    \n",
    "    # Revisar que no queden recierres\n",
    "    filas_recierre = df1.loc[(df1[\"REPOSICION\"]==\"Recierre\")]\n",
    "    if len(filas_recierre)>0:\n",
    "        raise(f\"{input_file} tiene filas con 'recierre' en columna REPOSICION\")\n",
    "    \n",
    "    # No deben quedar barrios vacios\n",
    "    if len(df1.loc[df1.BARRIO == \"\"]) > 0:\n",
    "        raise(f\"{input_file} tiene filas con BARRIOS vacios\")\n",
    "    \n",
    "    # Exportar dataframe transformado\n",
    "    df1.to_csv(f\"../transformed/t_{p_mes}.csv\", encoding=\"ISO-8859-1\", index=False)\n",
    "    print(f\"Datos guardados en ../transformed/t_{p_mes}.csv\")\n",
    "\n",
    "    "
   ]
  },
  {
   "cell_type": "markdown",
   "id": "occupied-extension",
   "metadata": {},
   "source": [
    "# Verificar datos\n",
    "Las celdas de abajo pueden ayudar a visualizar/testear algunas transformaciones en el dataframe"
   ]
  },
  {
   "cell_type": "code",
   "execution_count": null,
   "id": "joint-canberra",
   "metadata": {},
   "outputs": [],
   "source": [
    "# no deben repetirse barrios\n",
    "aux = sorted(list(df1[\"BARRIO\"].unique()))\n",
    "aux"
   ]
  },
  {
   "cell_type": "code",
   "execution_count": null,
   "id": "available-banner",
   "metadata": {},
   "outputs": [],
   "source": [
    "aux4 = df1.sort_values(by=['BARRIO'], ascending=False)\n",
    "aux4.loc[aux4.BARRIO == \"\"]"
   ]
  },
  {
   "cell_type": "code",
   "execution_count": null,
   "id": "driving-nitrogen",
   "metadata": {},
   "outputs": [],
   "source": [
    "AUX = df1.groupby(['TIPO DE EVENTO', 'BARRIO'])['BARRIO'].count()"
   ]
  },
  {
   "cell_type": "code",
   "execution_count": null,
   "id": "suited-medication",
   "metadata": {},
   "outputs": [],
   "source": [
    "AUX[[\"Accidental\"]].sort_values(ascending=False)"
   ]
  },
  {
   "cell_type": "code",
   "execution_count": null,
   "id": "killing-strategy",
   "metadata": {},
   "outputs": [],
   "source": [
    "AUX[[\"Programado\"]].sort_values(ascending=False)"
   ]
  },
  {
   "cell_type": "code",
   "execution_count": null,
   "id": "effective-structure",
   "metadata": {},
   "outputs": [],
   "source": [
    "aux3 = df1[['BARRIO', 'DURACION']]"
   ]
  },
  {
   "cell_type": "code",
   "execution_count": null,
   "id": "ordinary-convert",
   "metadata": {},
   "outputs": [],
   "source": [
    "aux4 = df1.sort_values(by=['DURACION'], ascending=False)"
   ]
  },
  {
   "cell_type": "code",
   "execution_count": null,
   "id": "fuzzy-bundle",
   "metadata": {},
   "outputs": [],
   "source": [
    "aux4.sort_values(by=[\"DURACION\"], ascending=False)"
   ]
  },
  {
   "cell_type": "code",
   "execution_count": null,
   "id": "integral-character",
   "metadata": {},
   "outputs": [],
   "source": [
    "aux4.loc[(aux4[\"REPOSICIONN\"]==\"Recierre\") & (aux4[\"FUERA DE SERVICIO\"].str.contains(\"10/01/2020\"))]"
   ]
  },
  {
   "cell_type": "code",
   "execution_count": null,
   "id": "surprised-compact",
   "metadata": {},
   "outputs": [],
   "source": [
    "aux4.loc[(aux4[\"FUERA DE SERVICIO\"].str.contains(\"31/01/2020\"))]"
   ]
  },
  {
   "cell_type": "code",
   "execution_count": null,
   "id": "compliant-phrase",
   "metadata": {},
   "outputs": [],
   "source": [
    "tdelta2 = pd.to_datetime(\"7/01/2020 01:12\", format=\"%d/%m/%Y %H:%M\") - pd.to_datetime(\"6/01/2020 23:54\", format=\"%d/%m/%Y %H:%M\")\n",
    "tdelta2"
   ]
  },
  {
   "cell_type": "code",
   "execution_count": null,
   "id": "changed-recorder",
   "metadata": {},
   "outputs": [],
   "source": [
    "pd.to_datetime(\"7/01/2020 01:12\", format=\"%d/%m/%Y %H:%M\")"
   ]
  }
 ],
 "metadata": {
  "kernelspec": {
   "display_name": "Python 3",
   "language": "python",
   "name": "python3"
  },
  "language_info": {
   "codemirror_mode": {
    "name": "ipython",
    "version": 3
   },
   "file_extension": ".py",
   "mimetype": "text/x-python",
   "name": "python",
   "nbconvert_exporter": "python",
   "pygments_lexer": "ipython3",
   "version": "3.6.12"
  }
 },
 "nbformat": 4,
 "nbformat_minor": 5
}
