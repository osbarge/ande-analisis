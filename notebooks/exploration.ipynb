{
 "cells": [
  {
   "cell_type": "code",
   "execution_count": 139,
   "id": "meaningful-reggae",
   "metadata": {},
   "outputs": [],
   "source": [
    "import pandas as pd\n",
    "from datetime import timedelta"
   ]
  },
  {
   "cell_type": "code",
   "execution_count": 405,
   "id": "fiscal-allen",
   "metadata": {},
   "outputs": [],
   "source": [
    "# setear parametros/variables\n",
    "p_mes = \"octubre\"\n",
    "input_file = \"202010\""
   ]
  },
  {
   "cell_type": "code",
   "execution_count": 406,
   "id": "yellow-dover",
   "metadata": {},
   "outputs": [],
   "source": [
    "csv_columns = ['PRIMARIO', 'FUERA DE SERVICIO', 'REPOSICION', 'TIPO DE EVENTO', 'ESTADO DEL CLIMA', 'OBSERVACION']"
   ]
  },
  {
   "cell_type": "code",
   "execution_count": 407,
   "id": "centered-copying",
   "metadata": {},
   "outputs": [],
   "source": [
    "# leer archivos\n",
    "df1 = pd.read_csv(fr\"../data/{input_file}.csv\", encoding=\"ISO-8859-1\")"
   ]
  },
  {
   "cell_type": "code",
   "execution_count": 408,
   "id": "virtual-contest",
   "metadata": {},
   "outputs": [],
   "source": [
    "# Transformar datasets\n",
    "df1n = df1.BARRIOS.str.rstrip(',').str.rstrip(',.').str.split(',').apply(pd.Series)    # break df.BARRIOS into columns\n",
    "df1n.index = df1.set_index(csv_columns).index\n",
    "df1 = df1n.stack().reset_index(csv_columns)    # stack and reset_index\n",
    "df1.columns = csv_columns  + ['BARRIO']"
   ]
  },
  {
   "cell_type": "code",
   "execution_count": 409,
   "id": "collectible-america",
   "metadata": {},
   "outputs": [],
   "source": [
    "# Considerar Recierre como 2 horas\n",
    "def transform_recierre(fuera_servicio, reposicion):\n",
    "#     print(\"fuera servicio:\", fuera_servicio)\n",
    "#     print(\"reposicion:\", reposicion)\n",
    "    if reposicion.lower().strip() != \"recierre\":\n",
    "        return reposicion\n",
    "    \n",
    "    reposicion = pd.to_datetime(fuera_servicio, format=\"%d/%m/%Y %H:%M\", errors='coerce') + timedelta(hours=2)\n",
    "    # print(reposicion.strftime(\"%d/%m/%Y %H:%M\"))\n",
    "    return reposicion.strftime(\"%d/%m/%Y %H:%M\")\n",
    "\n",
    "\n",
    "\n",
    "df1['REPOSICION'] = df1.apply(lambda row: transform_recierre(row['FUERA DE SERVICIO'], row['REPOSICION']), axis=1)"
   ]
  },
  {
   "cell_type": "code",
   "execution_count": 410,
   "id": "increased-calculation",
   "metadata": {},
   "outputs": [],
   "source": [
    "df1['DURACION'] = df1[[\"FUERA DE SERVICIO\", \"REPOSICION\"]].apply(lambda x: (pd.to_datetime(x[1], format=\"%d/%m/%Y %H:%M\", errors='coerce') - pd.to_datetime(x[0], format=\"%d/%m/%Y %H:%M\", errors='coerce')), axis=1)"
   ]
  },
  {
   "cell_type": "code",
   "execution_count": 411,
   "id": "finished-neutral",
   "metadata": {},
   "outputs": [],
   "source": [
    "# Normalizar BARRIO\n",
    "df1['BARRIO'] = df1['BARRIO'].apply(lambda x: x.replace(\"\\r\", \" \"))\n",
    "df1['BARRIO'] = df1['BARRIO'].apply(lambda x: x.replace(\"\\n\", \" \"))\n",
    "df1['BARRIO'] = df1['BARRIO'].apply(lambda x: x.replace(\"  \", \" \"))\n",
    "df1['BARRIO'] = df1['BARRIO'].apply(lambda x: x.strip())\n",
    "df1['BARRIO'] = df1['BARRIO'].apply(lambda x: x.replace(\"Hiódromo\", \"Hipódromo\"))\n",
    "df1['BARRIO'] = df1['BARRIO'].apply(lambda x: x.replace(\"Madame Lych\", \"Madame Lynch\"))\n",
    "df1['BARRIO'] = df1['BARRIO'].apply(lambda x: x.replace(\"Dr. Gaspar R. de Francia\", \"Dr. Gaspar Rodríguez de Francia\"))\n",
    "df1['BARRIO'] = df1['BARRIO'].apply(lambda x: x.replace(\"Rodriguez\", \"Rodríguez\"))\n",
    "df1['BARRIO'] = df1['BARRIO'].apply(lambda x: x.replace(\"Mcal. Francisco.S. López\", \"Mcal. Francisco S. López\"))\n",
    "df1['BARRIO'] = df1['BARRIO'].apply(lambda x: x.replace('Mcal F. S. López', \"Mcal. Francisco S. López\"))\n",
    "df1['BARRIO'] = df1['BARRIO'].apply(lambda x: x.replace('Francisco.', 'Francisco'))\n",
    "df1['BARRIO'] = df1['BARRIO'].apply(lambda x: x.replace(\"Mbocayty\", \"Mbocayaty\"))\n",
    "df1['BARRIO'] = df1['BARRIO'].apply(lambda x: x.replace(\"Mobocayaty\", \"Mbocayaty\"))\n",
    "df1['BARRIO'] = df1['BARRIO'].apply(lambda x: x.replace(\"Cañada de Ybyray\", \"Cañada Ybyray\"))\n",
    "df1['BARRIO'] = df1['BARRIO'].apply(lambda x: x.replace(\"Nazaret\", \"Nazareth\"))\n",
    "df1['BARRIO'] = df1['BARRIO'].apply(lambda x: x.replace(\"Nazarethh\", \"Nazareth\"))\n",
    "df1['BARRIO'] = df1['BARRIO'].apply(lambda x: x.replace(\"Carlos. A. López\", \"Carlos A. López\"))\n",
    "df1['BARRIO'] = df1['BARRIO'].apply(lambda x: x.replace(\"Petirosi\", \"Pettirossi\"))\n",
    "df1['BARRIO'] = df1['BARRIO'].apply(lambda x: x.replace(\"Cristobal\", \"Cristóbal\"))\n",
    "df1['BARRIO'] = df1['BARRIO'].apply(lambda x: x.replace(\"Santisima\", \"Santísima\"))\n",
    "df1['BARRIO'] = df1['BARRIO'].apply(lambda x: x.replace(\"Mocayaty\", \"Mbocayaty\"))\n",
    "df1['BARRIO'] = df1['BARRIO'].apply(lambda x: x.replace(\"Mcal. José F. Estigarribia\",\"Mcal. Estigarribia\"))\n",
    "df1['BARRIO'] = df1['BARRIO'].apply(lambda x: x.replace(\"ybyray\", \"Ybyray\"))\n",
    "df1['BARRIO'] = df1['BARRIO'].apply(lambda x: x.rstrip(\".\"))\n"
   ]
  },
  {
   "cell_type": "code",
   "execution_count": 412,
   "id": "italian-discharge",
   "metadata": {},
   "outputs": [],
   "source": [
    "# Agregar Duración en Segundos\n",
    "df1['DURACION SEGS'] = df1['DURACION'].apply(lambda x: x.seconds)"
   ]
  },
  {
   "cell_type": "code",
   "execution_count": 253,
   "id": "framed-disorder",
   "metadata": {},
   "outputs": [],
   "source": []
  },
  {
   "cell_type": "code",
   "execution_count": null,
   "id": "described-short",
   "metadata": {},
   "outputs": [],
   "source": [
    "# verificar datos"
   ]
  },
  {
   "cell_type": "code",
   "execution_count": 413,
   "id": "joint-canberra",
   "metadata": {},
   "outputs": [
    {
     "data": {
      "text/plain": [
       "['Banco San Miguel',\n",
       " 'Bañado Cará Cará',\n",
       " 'Bañado Tacumbu',\n",
       " 'Bella Vista',\n",
       " 'Botánico',\n",
       " 'Carlos A. López',\n",
       " 'Cañada Ybyray',\n",
       " 'Ciudad Nueva',\n",
       " 'Dr. Gaspar Rodríguez de Francia',\n",
       " 'Dr. Roberto L. Petit',\n",
       " 'Gral. Bernardino Caballero',\n",
       " 'Gral. J. E Diaz',\n",
       " 'Hipódromo',\n",
       " 'Ita Pyta Punta',\n",
       " 'Itay',\n",
       " 'Itá Enramada',\n",
       " 'Jara',\n",
       " 'Jukyty',\n",
       " 'La Catedral',\n",
       " 'La Encarnación',\n",
       " 'Las Carmelitas',\n",
       " 'Las Mercedes',\n",
       " 'Loma Pyta',\n",
       " 'Los Laureles',\n",
       " 'Luis Alberto de Herrera',\n",
       " 'Madame Lynch',\n",
       " 'Manorá',\n",
       " 'Mbocayaty',\n",
       " 'Mburicao',\n",
       " 'Mburucuyá',\n",
       " 'Mcal. Estigarribia',\n",
       " 'Mcal. Francisco S. López',\n",
       " 'Nazareth',\n",
       " 'Obrero',\n",
       " 'Pinoza',\n",
       " 'Pirizal',\n",
       " 'Recoleta',\n",
       " 'Republicano',\n",
       " 'Ricardo Brugada',\n",
       " 'Sajonia',\n",
       " 'Salvador del Mundo',\n",
       " 'San Antonio',\n",
       " 'San Blas',\n",
       " 'San Cayetano',\n",
       " 'San Cristóbal',\n",
       " 'San Felipe',\n",
       " 'San Jorge',\n",
       " 'San Pablo',\n",
       " 'San Roque',\n",
       " 'San Vicente',\n",
       " 'Santa Ana',\n",
       " 'Santa Librada',\n",
       " 'Santa María',\n",
       " 'Santa Rosa',\n",
       " 'Santo Domingo',\n",
       " 'Santísima Trinidad',\n",
       " 'Tablada Nueva',\n",
       " 'Tembetary',\n",
       " 'Terminal',\n",
       " 'Tte. Silvio Pettirossi',\n",
       " 'Villa Aurelia',\n",
       " 'Villa Morra',\n",
       " 'Virgen de la Asunción',\n",
       " 'Virgen del Huerto',\n",
       " 'Vista Alegre',\n",
       " 'Ykua Sati',\n",
       " 'Zeballos Cué']"
      ]
     },
     "execution_count": 413,
     "metadata": {},
     "output_type": "execute_result"
    }
   ],
   "source": [
    "# no deben repetirse barrios\n",
    "aux = sorted(list(df1[\"BARRIO\"].unique()))\n",
    "aux"
   ]
  },
  {
   "cell_type": "code",
   "execution_count": 414,
   "id": "direct-iraqi",
   "metadata": {},
   "outputs": [
    {
     "data": {
      "text/plain": [
       "67"
      ]
     },
     "execution_count": 414,
     "metadata": {},
     "output_type": "execute_result"
    }
   ],
   "source": [
    "# debe haber 69 o 68 barrios como max\n",
    "len(aux)"
   ]
  },
  {
   "cell_type": "code",
   "execution_count": 415,
   "id": "prime-married",
   "metadata": {},
   "outputs": [
    {
     "data": {
      "text/html": [
       "<div>\n",
       "<style scoped>\n",
       "    .dataframe tbody tr th:only-of-type {\n",
       "        vertical-align: middle;\n",
       "    }\n",
       "\n",
       "    .dataframe tbody tr th {\n",
       "        vertical-align: top;\n",
       "    }\n",
       "\n",
       "    .dataframe thead th {\n",
       "        text-align: right;\n",
       "    }\n",
       "</style>\n",
       "<table border=\"1\" class=\"dataframe\">\n",
       "  <thead>\n",
       "    <tr style=\"text-align: right;\">\n",
       "      <th></th>\n",
       "      <th>PRIMARIO</th>\n",
       "      <th>FUERA DE SERVICIO</th>\n",
       "      <th>REPOSICION</th>\n",
       "      <th>TIPO DE EVENTO</th>\n",
       "      <th>ESTADO DEL CLIMA</th>\n",
       "      <th>OBSERVACION</th>\n",
       "      <th>BARRIO</th>\n",
       "      <th>DURACION</th>\n",
       "      <th>DURACION SEGS</th>\n",
       "    </tr>\n",
       "  </thead>\n",
       "  <tbody>\n",
       "  </tbody>\n",
       "</table>\n",
       "</div>"
      ],
      "text/plain": [
       "Empty DataFrame\n",
       "Columns: [PRIMARIO, FUERA DE SERVICIO, REPOSICION, TIPO DE EVENTO, ESTADO DEL CLIMA, OBSERVACION, BARRIO, DURACION, DURACION SEGS]\n",
       "Index: []"
      ]
     },
     "execution_count": 415,
     "metadata": {},
     "output_type": "execute_result"
    }
   ],
   "source": [
    "# Revisar que no queden recierres\n",
    "df1.loc[(df1[\"REPOSICION\"]==\"Recierre\")]"
   ]
  },
  {
   "cell_type": "code",
   "execution_count": 416,
   "id": "worthy-report",
   "metadata": {},
   "outputs": [],
   "source": [
    "# Exportar dataframe transformado\n",
    "df1.to_csv(f\"../transformed/t_{p_mes}.csv\", encoding=\"ISO-8859-1\")"
   ]
  },
  {
   "cell_type": "code",
   "execution_count": 418,
   "id": "sized-branch",
   "metadata": {},
   "outputs": [
    {
     "data": {
      "text/html": [
       "<div>\n",
       "<style scoped>\n",
       "    .dataframe tbody tr th:only-of-type {\n",
       "        vertical-align: middle;\n",
       "    }\n",
       "\n",
       "    .dataframe tbody tr th {\n",
       "        vertical-align: top;\n",
       "    }\n",
       "\n",
       "    .dataframe thead th {\n",
       "        text-align: right;\n",
       "    }\n",
       "</style>\n",
       "<table border=\"1\" class=\"dataframe\">\n",
       "  <thead>\n",
       "    <tr style=\"text-align: right;\">\n",
       "      <th></th>\n",
       "      <th>PRIMARIO</th>\n",
       "      <th>FUERA DE SERVICIO</th>\n",
       "      <th>REPOSICION</th>\n",
       "      <th>TIPO DE EVENTO</th>\n",
       "      <th>ESTADO DEL CLIMA</th>\n",
       "      <th>OBSERVACION</th>\n",
       "      <th>BARRIO</th>\n",
       "      <th>DURACION</th>\n",
       "      <th>DURACION SEGS</th>\n",
       "    </tr>\n",
       "  </thead>\n",
       "  <tbody>\n",
       "    <tr>\n",
       "      <th>0</th>\n",
       "      <td>BCP2</td>\n",
       "      <td>14/10/2020 13:46</td>\n",
       "      <td>14/10/2020 15:03</td>\n",
       "      <td>Accidental</td>\n",
       "      <td>Adverso</td>\n",
       "      <td>Transformador averiado. Aguirre y Peña.</td>\n",
       "      <td>Bella Vista</td>\n",
       "      <td>0 days 01:17:00</td>\n",
       "      <td>4620</td>\n",
       "    </tr>\n",
       "    <tr>\n",
       "      <th>1</th>\n",
       "      <td>BCP2</td>\n",
       "      <td>14/10/2020 13:46</td>\n",
       "      <td>14/10/2020 15:03</td>\n",
       "      <td>Accidental</td>\n",
       "      <td>Adverso</td>\n",
       "      <td>Transformador averiado. Aguirre y Peña.</td>\n",
       "      <td>Santo Domingo</td>\n",
       "      <td>0 days 01:17:00</td>\n",
       "      <td>4620</td>\n",
       "    </tr>\n",
       "    <tr>\n",
       "      <th>2</th>\n",
       "      <td>BCP2</td>\n",
       "      <td>14/10/2020 13:46</td>\n",
       "      <td>14/10/2020 15:03</td>\n",
       "      <td>Accidental</td>\n",
       "      <td>Adverso</td>\n",
       "      <td>Transformador averiado. Aguirre y Peña.</td>\n",
       "      <td>Manorá</td>\n",
       "      <td>0 days 01:17:00</td>\n",
       "      <td>4620</td>\n",
       "    </tr>\n",
       "    <tr>\n",
       "      <th>0</th>\n",
       "      <td>BCP2</td>\n",
       "      <td>26/10/2020 02:27</td>\n",
       "      <td>26/10/2020 03:23</td>\n",
       "      <td>Accidental</td>\n",
       "      <td>Adverso</td>\n",
       "      <td>Condiciones Climáticas Adversas.</td>\n",
       "      <td>Bella Vista</td>\n",
       "      <td>0 days 00:56:00</td>\n",
       "      <td>3360</td>\n",
       "    </tr>\n",
       "    <tr>\n",
       "      <th>1</th>\n",
       "      <td>BCP2</td>\n",
       "      <td>26/10/2020 02:27</td>\n",
       "      <td>26/10/2020 03:23</td>\n",
       "      <td>Accidental</td>\n",
       "      <td>Adverso</td>\n",
       "      <td>Condiciones Climáticas Adversas.</td>\n",
       "      <td>Santo Domingo</td>\n",
       "      <td>0 days 00:56:00</td>\n",
       "      <td>3360</td>\n",
       "    </tr>\n",
       "    <tr>\n",
       "      <th>...</th>\n",
       "      <td>...</td>\n",
       "      <td>...</td>\n",
       "      <td>...</td>\n",
       "      <td>...</td>\n",
       "      <td>...</td>\n",
       "      <td>...</td>\n",
       "      <td>...</td>\n",
       "      <td>...</td>\n",
       "      <td>...</td>\n",
       "    </tr>\n",
       "    <tr>\n",
       "      <th>1</th>\n",
       "      <td>VAU3</td>\n",
       "      <td>29/10/2020 15:07</td>\n",
       "      <td>29/10/2020 17:07</td>\n",
       "      <td>Accidental</td>\n",
       "      <td>Normal</td>\n",
       "      <td>No establecido.</td>\n",
       "      <td>San Pablo</td>\n",
       "      <td>0 days 02:00:00</td>\n",
       "      <td>7200</td>\n",
       "    </tr>\n",
       "    <tr>\n",
       "      <th>0</th>\n",
       "      <td>VAU4</td>\n",
       "      <td>24/10/2020 00:03</td>\n",
       "      <td>24/10/2020 00:59</td>\n",
       "      <td>Accidental</td>\n",
       "      <td>Normal</td>\n",
       "      <td>Cruceta MT rota. Médicos del Chaco y Carios.</td>\n",
       "      <td>Los Laureles</td>\n",
       "      <td>0 days 00:56:00</td>\n",
       "      <td>3360</td>\n",
       "    </tr>\n",
       "    <tr>\n",
       "      <th>1</th>\n",
       "      <td>VAU4</td>\n",
       "      <td>24/10/2020 00:03</td>\n",
       "      <td>24/10/2020 00:59</td>\n",
       "      <td>Accidental</td>\n",
       "      <td>Normal</td>\n",
       "      <td>Cruceta MT rota. Médicos del Chaco y Carios.</td>\n",
       "      <td>Nazareth</td>\n",
       "      <td>0 days 00:56:00</td>\n",
       "      <td>3360</td>\n",
       "    </tr>\n",
       "    <tr>\n",
       "      <th>2</th>\n",
       "      <td>VAU4</td>\n",
       "      <td>24/10/2020 00:03</td>\n",
       "      <td>24/10/2020 00:59</td>\n",
       "      <td>Accidental</td>\n",
       "      <td>Normal</td>\n",
       "      <td>Cruceta MT rota. Médicos del Chaco y Carios.</td>\n",
       "      <td>Recoleta</td>\n",
       "      <td>0 days 00:56:00</td>\n",
       "      <td>3360</td>\n",
       "    </tr>\n",
       "    <tr>\n",
       "      <th>3</th>\n",
       "      <td>VAU4</td>\n",
       "      <td>24/10/2020 00:03</td>\n",
       "      <td>24/10/2020 00:59</td>\n",
       "      <td>Accidental</td>\n",
       "      <td>Normal</td>\n",
       "      <td>Cruceta MT rota. Médicos del Chaco y Carios.</td>\n",
       "      <td>Tembetary</td>\n",
       "      <td>0 days 00:56:00</td>\n",
       "      <td>3360</td>\n",
       "    </tr>\n",
       "  </tbody>\n",
       "</table>\n",
       "<p>448 rows × 9 columns</p>\n",
       "</div>"
      ],
      "text/plain": [
       "   PRIMARIO FUERA DE SERVICIO        REPOSICION TIPO DE EVENTO  \\\n",
       "0      BCP2  14/10/2020 13:46  14/10/2020 15:03     Accidental   \n",
       "1      BCP2  14/10/2020 13:46  14/10/2020 15:03     Accidental   \n",
       "2      BCP2  14/10/2020 13:46  14/10/2020 15:03     Accidental   \n",
       "0      BCP2  26/10/2020 02:27  26/10/2020 03:23     Accidental   \n",
       "1      BCP2  26/10/2020 02:27  26/10/2020 03:23     Accidental   \n",
       "..      ...               ...               ...            ...   \n",
       "1      VAU3  29/10/2020 15:07  29/10/2020 17:07     Accidental   \n",
       "0      VAU4  24/10/2020 00:03  24/10/2020 00:59     Accidental   \n",
       "1      VAU4  24/10/2020 00:03  24/10/2020 00:59     Accidental   \n",
       "2      VAU4  24/10/2020 00:03  24/10/2020 00:59     Accidental   \n",
       "3      VAU4  24/10/2020 00:03  24/10/2020 00:59     Accidental   \n",
       "\n",
       "   ESTADO DEL CLIMA                                   OBSERVACION  \\\n",
       "0           Adverso       Transformador averiado. Aguirre y Peña.   \n",
       "1           Adverso       Transformador averiado. Aguirre y Peña.   \n",
       "2           Adverso       Transformador averiado. Aguirre y Peña.   \n",
       "0           Adverso              Condiciones Climáticas Adversas.   \n",
       "1           Adverso              Condiciones Climáticas Adversas.   \n",
       "..              ...                                           ...   \n",
       "1            Normal                               No establecido.   \n",
       "0            Normal  Cruceta MT rota. Médicos del Chaco y Carios.   \n",
       "1            Normal  Cruceta MT rota. Médicos del Chaco y Carios.   \n",
       "2            Normal  Cruceta MT rota. Médicos del Chaco y Carios.   \n",
       "3            Normal  Cruceta MT rota. Médicos del Chaco y Carios.   \n",
       "\n",
       "           BARRIO        DURACION  DURACION SEGS  \n",
       "0     Bella Vista 0 days 01:17:00           4620  \n",
       "1   Santo Domingo 0 days 01:17:00           4620  \n",
       "2          Manorá 0 days 01:17:00           4620  \n",
       "0     Bella Vista 0 days 00:56:00           3360  \n",
       "1   Santo Domingo 0 days 00:56:00           3360  \n",
       "..            ...             ...            ...  \n",
       "1       San Pablo 0 days 02:00:00           7200  \n",
       "0    Los Laureles 0 days 00:56:00           3360  \n",
       "1        Nazareth 0 days 00:56:00           3360  \n",
       "2        Recoleta 0 days 00:56:00           3360  \n",
       "3       Tembetary 0 days 00:56:00           3360  \n",
       "\n",
       "[448 rows x 9 columns]"
      ]
     },
     "execution_count": 418,
     "metadata": {},
     "output_type": "execute_result"
    }
   ],
   "source": [
    "df1"
   ]
  },
  {
   "cell_type": "code",
   "execution_count": 36,
   "id": "private-means",
   "metadata": {},
   "outputs": [],
   "source": []
  },
  {
   "cell_type": "code",
   "execution_count": 103,
   "id": "available-banner",
   "metadata": {},
   "outputs": [
    {
     "data": {
      "text/html": [
       "<div>\n",
       "<style scoped>\n",
       "    .dataframe tbody tr th:only-of-type {\n",
       "        vertical-align: middle;\n",
       "    }\n",
       "\n",
       "    .dataframe tbody tr th {\n",
       "        vertical-align: top;\n",
       "    }\n",
       "\n",
       "    .dataframe thead th {\n",
       "        text-align: right;\n",
       "    }\n",
       "</style>\n",
       "<table border=\"1\" class=\"dataframe\">\n",
       "  <thead>\n",
       "    <tr style=\"text-align: right;\">\n",
       "      <th></th>\n",
       "      <th>PRIMARIO</th>\n",
       "      <th>FUERA DE SERVICIO</th>\n",
       "      <th>REPOSICION</th>\n",
       "      <th>TIPO DE EVENTO</th>\n",
       "      <th>ESTADO DEL CLIMA</th>\n",
       "      <th>OBSERVACION</th>\n",
       "      <th>BARRIO</th>\n",
       "      <th>DURACION</th>\n",
       "      <th>DURACION SEGS</th>\n",
       "    </tr>\n",
       "  </thead>\n",
       "  <tbody>\n",
       "  </tbody>\n",
       "</table>\n",
       "</div>"
      ],
      "text/plain": [
       "Empty DataFrame\n",
       "Columns: [PRIMARIO, FUERA DE SERVICIO, REPOSICION, TIPO DE EVENTO, ESTADO DEL CLIMA, OBSERVACION, BARRIO, DURACION, DURACION SEGS]\n",
       "Index: []"
      ]
     },
     "execution_count": 103,
     "metadata": {},
     "output_type": "execute_result"
    }
   ],
   "source": [
    "aux4 = df1.sort_values(by=['BARRIO'], ascending=False)\n",
    "aux4.loc[aux4.BARRIO == \"\"]"
   ]
  },
  {
   "cell_type": "code",
   "execution_count": null,
   "id": "billion-confusion",
   "metadata": {},
   "outputs": [],
   "source": []
  },
  {
   "cell_type": "code",
   "execution_count": null,
   "id": "driving-nitrogen",
   "metadata": {},
   "outputs": [],
   "source": [
    "AUX = df1.groupby(['TIPO DE EVENTO', 'BARRIO'])['BARRIO'].count()"
   ]
  },
  {
   "cell_type": "code",
   "execution_count": null,
   "id": "suited-medication",
   "metadata": {},
   "outputs": [],
   "source": [
    "AUX[[\"Accidental\"]].sort_values(ascending=False)"
   ]
  },
  {
   "cell_type": "code",
   "execution_count": null,
   "id": "killing-strategy",
   "metadata": {},
   "outputs": [],
   "source": [
    "AUX[[\"Programado\"]].sort_values(ascending=False)"
   ]
  },
  {
   "cell_type": "code",
   "execution_count": null,
   "id": "effective-structure",
   "metadata": {},
   "outputs": [],
   "source": [
    "aux3 = df1[['BARRIO', 'DURACION']]"
   ]
  },
  {
   "cell_type": "code",
   "execution_count": null,
   "id": "ordinary-convert",
   "metadata": {},
   "outputs": [],
   "source": [
    "aux4 = df1.sort_values(by=['DURACION'], ascending=False)"
   ]
  },
  {
   "cell_type": "code",
   "execution_count": null,
   "id": "certified-injury",
   "metadata": {},
   "outputs": [],
   "source": []
  },
  {
   "cell_type": "code",
   "execution_count": null,
   "id": "fuzzy-bundle",
   "metadata": {},
   "outputs": [],
   "source": [
    "aux4.sort_values(by=[\"DURACION\"], ascending=False)"
   ]
  },
  {
   "cell_type": "code",
   "execution_count": null,
   "id": "integral-character",
   "metadata": {},
   "outputs": [],
   "source": [
    "aux4.loc[(aux4[\"REPOSICIONN\"]==\"Recierre\") & (aux4[\"FUERA DE SERVICIO\"].str.contains(\"10/01/2020\"))]"
   ]
  },
  {
   "cell_type": "code",
   "execution_count": null,
   "id": "surprised-compact",
   "metadata": {},
   "outputs": [],
   "source": [
    "aux4.loc[(aux4[\"FUERA DE SERVICIO\"].str.contains(\"31/01/2020\"))]"
   ]
  },
  {
   "cell_type": "code",
   "execution_count": null,
   "id": "compliant-phrase",
   "metadata": {},
   "outputs": [],
   "source": [
    "tdelta2 = pd.to_datetime(\"7/01/2020 01:12\", format=\"%d/%m/%Y %H:%M\") - pd.to_datetime(\"6/01/2020 23:54\", format=\"%d/%m/%Y %H:%M\")\n",
    "tdelta2"
   ]
  },
  {
   "cell_type": "code",
   "execution_count": null,
   "id": "changed-recorder",
   "metadata": {},
   "outputs": [],
   "source": [
    "pd.to_datetime(\"7/01/2020 01:12\", format=\"%d/%m/%Y %H:%M\")"
   ]
  },
  {
   "cell_type": "code",
   "execution_count": null,
   "id": "available-fiction",
   "metadata": {},
   "outputs": [],
   "source": []
  }
 ],
 "metadata": {
  "kernelspec": {
   "display_name": "Python 3",
   "language": "python",
   "name": "python3"
  },
  "language_info": {
   "codemirror_mode": {
    "name": "ipython",
    "version": 3
   },
   "file_extension": ".py",
   "mimetype": "text/x-python",
   "name": "python",
   "nbconvert_exporter": "python",
   "pygments_lexer": "ipython3",
   "version": "3.6.12"
  }
 },
 "nbformat": 4,
 "nbformat_minor": 5
}
