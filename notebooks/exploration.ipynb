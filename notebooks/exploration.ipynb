{
 "cells": [
  {
   "cell_type": "code",
   "execution_count": 2,
   "id": "meaningful-reggae",
   "metadata": {},
   "outputs": [],
   "source": [
    "import pandas as pd\n",
    "from datetime import timedelta"
   ]
  },
  {
   "cell_type": "code",
   "execution_count": 3,
   "id": "fiscal-allen",
   "metadata": {},
   "outputs": [],
   "source": [
    "# setear parametros/variables\n",
    "p_mes = \"diciembre\"\n",
    "input_file = \"202012\""
   ]
  },
  {
   "cell_type": "code",
   "execution_count": 4,
   "id": "yellow-dover",
   "metadata": {},
   "outputs": [],
   "source": [
    "csv_columns = ['PRIMARIO', 'FUERA DE SERVICIO', 'REPOSICION', 'TIPO DE EVENTO', 'ESTADO DEL CLIMA', 'OBSERVACION']"
   ]
  },
  {
   "cell_type": "code",
   "execution_count": 5,
   "id": "centered-copying",
   "metadata": {},
   "outputs": [],
   "source": [
    "# leer archivos\n",
    "df1 = pd.read_csv(fr\"../data/{input_file}.csv\", encoding=\"ISO-8859-1\")"
   ]
  },
  {
   "cell_type": "code",
   "execution_count": 6,
   "id": "virtual-contest",
   "metadata": {},
   "outputs": [],
   "source": [
    "# Transformar datasets\n",
    "df1n = df1.BARRIOS.str.rstrip(',').str.rstrip(',.').str.split(',').apply(pd.Series)    # break df.BARRIOS into columns\n",
    "df1n.index = df1.set_index(csv_columns).index\n",
    "df1 = df1n.stack().reset_index(csv_columns)    # stack and reset_index\n",
    "df1.columns = csv_columns  + ['BARRIO']"
   ]
  },
  {
   "cell_type": "code",
   "execution_count": 7,
   "id": "collectible-america",
   "metadata": {},
   "outputs": [],
   "source": [
    "# Considerar Recierre como 2 horas\n",
    "def transform_recierre(fuera_servicio, reposicion):\n",
    "#     print(\"fuera servicio:\", fuera_servicio)\n",
    "#     print(\"reposicion:\", reposicion)\n",
    "    if reposicion.lower().strip() != \"recierre\":\n",
    "        return reposicion\n",
    "    \n",
    "    reposicion = pd.to_datetime(fuera_servicio, format=\"%d/%m/%Y %H:%M\", errors='coerce') + timedelta(hours=2)\n",
    "    # print(reposicion.strftime(\"%d/%m/%Y %H:%M\"))\n",
    "    return reposicion.strftime(\"%d/%m/%Y %H:%M\")\n",
    "\n",
    "df1['REPOSICION'] = df1.apply(lambda row: transform_recierre(row['FUERA DE SERVICIO'], row['REPOSICION']), axis=1)"
   ]
  },
  {
   "cell_type": "code",
   "execution_count": 8,
   "id": "increased-calculation",
   "metadata": {},
   "outputs": [],
   "source": [
    "df1['DURACION'] = df1[[\"FUERA DE SERVICIO\", \"REPOSICION\"]].apply(lambda x: (pd.to_datetime(x[1], format=\"%d/%m/%Y %H:%M\", errors='coerce') - pd.to_datetime(x[0], format=\"%d/%m/%Y %H:%M\", errors='coerce')), axis=1)"
   ]
  },
  {
   "cell_type": "code",
   "execution_count": 9,
   "id": "finished-neutral",
   "metadata": {},
   "outputs": [],
   "source": [
    "# Normalizar BARRIO\n",
    "df1['BARRIO'] = df1['BARRIO'].apply(lambda x: x.replace(\"\\r\", \" \"))\n",
    "df1['BARRIO'] = df1['BARRIO'].apply(lambda x: x.replace(\"\\n\", \" \"))\n",
    "df1['BARRIO'] = df1['BARRIO'].apply(lambda x: x.replace(\"  \", \" \"))\n",
    "df1['BARRIO'] = df1['BARRIO'].apply(lambda x: x.strip())\n",
    "df1['BARRIO'] = df1['BARRIO'].apply(lambda x: x.replace(\"Hiódromo\", \"Hipódromo\"))\n",
    "df1['BARRIO'] = df1['BARRIO'].apply(lambda x: x.replace(\"Madame Lych\", \"Madame Lynch\"))\n",
    "df1['BARRIO'] = df1['BARRIO'].apply(lambda x: x.replace(\"Dr. Gaspar R. de Francia\", \"Dr. Gaspar Rodríguez de Francia\"))\n",
    "df1['BARRIO'] = df1['BARRIO'].apply(lambda x: x.replace(\"Rodriguez\", \"Rodríguez\"))\n",
    "df1['BARRIO'] = df1['BARRIO'].apply(lambda x: x.replace(\"Mcal. Francisco.S. López\", \"Mcal. Francisco S. López\"))\n",
    "df1['BARRIO'] = df1['BARRIO'].apply(lambda x: x.replace('Mcal F. S. López', \"Mcal. Francisco S. López\"))\n",
    "df1['BARRIO'] = df1['BARRIO'].apply(lambda x: x.replace('Francisco.', 'Francisco'))\n",
    "df1['BARRIO'] = df1['BARRIO'].apply(lambda x: x.replace(\"Mbocayty\", \"Mbocayaty\"))\n",
    "df1['BARRIO'] = df1['BARRIO'].apply(lambda x: x.replace(\"Mobocayaty\", \"Mbocayaty\"))\n",
    "df1['BARRIO'] = df1['BARRIO'].apply(lambda x: x.replace(\"Cañada de Ybyray\", \"Cañada Ybyray\"))\n",
    "df1['BARRIO'] = df1['BARRIO'].apply(lambda x: x.replace(\"Nazaret\", \"Nazareth\"))\n",
    "df1['BARRIO'] = df1['BARRIO'].apply(lambda x: x.replace(\"Nazarethh\", \"Nazareth\"))\n",
    "df1['BARRIO'] = df1['BARRIO'].apply(lambda x: x.replace(\"Carlos. A. López\", \"Carlos A. López\"))\n",
    "df1['BARRIO'] = df1['BARRIO'].apply(lambda x: x.replace(\"Petirosi\", \"Pettirossi\"))\n",
    "df1['BARRIO'] = df1['BARRIO'].apply(lambda x: x.replace(\"Cristobal\", \"Cristóbal\"))\n",
    "df1['BARRIO'] = df1['BARRIO'].apply(lambda x: x.replace(\"Santisima\", \"Santísima\"))\n",
    "df1['BARRIO'] = df1['BARRIO'].apply(lambda x: x.replace(\"Mocayaty\", \"Mbocayaty\"))\n",
    "df1['BARRIO'] = df1['BARRIO'].apply(lambda x: x.replace(\"Mcal. José F. Estigarribia\",\"Mcal. Estigarribia\"))\n",
    "df1['BARRIO'] = df1['BARRIO'].apply(lambda x: x.replace(\"ybyray\", \"Ybyray\"))\n",
    "df1['BARRIO'] = df1['BARRIO'].apply(lambda x: x.rstrip(\".\"))\n"
   ]
  },
  {
   "cell_type": "code",
   "execution_count": 10,
   "id": "framed-disorder",
   "metadata": {},
   "outputs": [],
   "source": [
    "## Normalizar PRIMARIO\n",
    "df1['PRIMARIO'] = df1['PRIMARIO'].apply(lambda x: x.rstrip(\".\"))"
   ]
  },
  {
   "cell_type": "code",
   "execution_count": 11,
   "id": "italian-discharge",
   "metadata": {},
   "outputs": [],
   "source": [
    "# Agregar Duración en Segundos\n",
    "df1['DURACION SEGS'] = df1['DURACION'].apply(lambda x: x.seconds)"
   ]
  },
  {
   "cell_type": "markdown",
   "id": "attractive-selection",
   "metadata": {},
   "source": [
    "# Verificar datos"
   ]
  },
  {
   "cell_type": "code",
   "execution_count": 12,
   "id": "joint-canberra",
   "metadata": {},
   "outputs": [
    {
     "data": {
      "text/plain": [
       "['Banco San Miguel',\n",
       " 'Bañado Cará Cará',\n",
       " 'Bañado Tacumbu',\n",
       " 'Bella Vista',\n",
       " 'Botánico',\n",
       " 'Carlos A. López',\n",
       " 'Cañada Ybyray',\n",
       " 'Ciudad Nueva',\n",
       " 'Dr. Gaspar Rodríguez de Francia',\n",
       " 'Dr. Roberto L. Petit',\n",
       " 'Gral. Bernardino Caballero',\n",
       " 'Gral. J. E Diaz',\n",
       " 'Hipódromo',\n",
       " 'Ita Pyta Punta',\n",
       " 'Itay',\n",
       " 'Itá Enramada',\n",
       " 'Jara',\n",
       " 'Jukyty',\n",
       " 'La Catedral',\n",
       " 'La Encarnación',\n",
       " 'Las Carmelitas',\n",
       " 'Las Mercedes',\n",
       " 'Loma Pyta',\n",
       " 'Los Laureles',\n",
       " 'Luis Alberto de Herrera',\n",
       " 'Madame Lynch',\n",
       " 'Manorá',\n",
       " 'Mbocayaty',\n",
       " 'Mburicao',\n",
       " 'Mburucuyá',\n",
       " 'Mcal. Estigarribia',\n",
       " 'Mcal. Francisco S. López',\n",
       " 'Obrero',\n",
       " 'Pinoza',\n",
       " 'Pirizal',\n",
       " 'Recoleta',\n",
       " 'Republicano',\n",
       " 'Ricardo Brugada',\n",
       " 'Sajonia',\n",
       " 'Salvador del Mundo',\n",
       " 'San Antonio',\n",
       " 'San Blas',\n",
       " 'San Cristóbal',\n",
       " 'San Felipe',\n",
       " 'San Jorge',\n",
       " 'San Pablo',\n",
       " 'San Roque',\n",
       " 'San Vicente',\n",
       " 'Santa Ana',\n",
       " 'Santa Librada',\n",
       " 'Santa María',\n",
       " 'Santa Rosa',\n",
       " 'Santo Domingo',\n",
       " 'Santísima Trinidad',\n",
       " 'Tablada Nueva',\n",
       " 'Tembetary',\n",
       " 'Terminal',\n",
       " 'Tte. Silvio Pettirossi',\n",
       " 'Villa Aurelia',\n",
       " 'Villa Morra',\n",
       " 'Virgen de la Asunción',\n",
       " 'Vista Alegre',\n",
       " 'Ykua Sati',\n",
       " 'Zeballos Cué',\n",
       " 'Ñu Guasu']"
      ]
     },
     "execution_count": 12,
     "metadata": {},
     "output_type": "execute_result"
    }
   ],
   "source": [
    "# no deben repetirse barrios\n",
    "aux = sorted(list(df1[\"BARRIO\"].unique()))\n",
    "aux"
   ]
  },
  {
   "cell_type": "code",
   "execution_count": 13,
   "id": "direct-iraqi",
   "metadata": {},
   "outputs": [
    {
     "data": {
      "text/plain": [
       "65"
      ]
     },
     "execution_count": 13,
     "metadata": {},
     "output_type": "execute_result"
    }
   ],
   "source": [
    "# debe haber 69 o 68 barrios como max\n",
    "len(aux)"
   ]
  },
  {
   "cell_type": "code",
   "execution_count": 14,
   "id": "prime-married",
   "metadata": {},
   "outputs": [
    {
     "data": {
      "text/html": [
       "<div>\n",
       "<style scoped>\n",
       "    .dataframe tbody tr th:only-of-type {\n",
       "        vertical-align: middle;\n",
       "    }\n",
       "\n",
       "    .dataframe tbody tr th {\n",
       "        vertical-align: top;\n",
       "    }\n",
       "\n",
       "    .dataframe thead th {\n",
       "        text-align: right;\n",
       "    }\n",
       "</style>\n",
       "<table border=\"1\" class=\"dataframe\">\n",
       "  <thead>\n",
       "    <tr style=\"text-align: right;\">\n",
       "      <th></th>\n",
       "      <th>PRIMARIO</th>\n",
       "      <th>FUERA DE SERVICIO</th>\n",
       "      <th>REPOSICION</th>\n",
       "      <th>TIPO DE EVENTO</th>\n",
       "      <th>ESTADO DEL CLIMA</th>\n",
       "      <th>OBSERVACION</th>\n",
       "      <th>BARRIO</th>\n",
       "      <th>DURACION</th>\n",
       "      <th>DURACION SEGS</th>\n",
       "    </tr>\n",
       "  </thead>\n",
       "  <tbody>\n",
       "  </tbody>\n",
       "</table>\n",
       "</div>"
      ],
      "text/plain": [
       "Empty DataFrame\n",
       "Columns: [PRIMARIO, FUERA DE SERVICIO, REPOSICION, TIPO DE EVENTO, ESTADO DEL CLIMA, OBSERVACION, BARRIO, DURACION, DURACION SEGS]\n",
       "Index: []"
      ]
     },
     "execution_count": 14,
     "metadata": {},
     "output_type": "execute_result"
    }
   ],
   "source": [
    "# Revisar que no queden recierres\n",
    "df1.loc[(df1[\"REPOSICION\"]==\"Recierre\")]"
   ]
  },
  {
   "cell_type": "code",
   "execution_count": 20,
   "id": "worthy-report",
   "metadata": {},
   "outputs": [],
   "source": [
    "# Exportar dataframe transformado\n",
    "df1.to_csv(f\"../transformed/t_{p_mes}.csv\", encoding=\"ISO-8859-1\")"
   ]
  },
  {
   "cell_type": "code",
   "execution_count": 15,
   "id": "sized-branch",
   "metadata": {},
   "outputs": [
    {
     "data": {
      "text/html": [
       "<div>\n",
       "<style scoped>\n",
       "    .dataframe tbody tr th:only-of-type {\n",
       "        vertical-align: middle;\n",
       "    }\n",
       "\n",
       "    .dataframe tbody tr th {\n",
       "        vertical-align: top;\n",
       "    }\n",
       "\n",
       "    .dataframe thead th {\n",
       "        text-align: right;\n",
       "    }\n",
       "</style>\n",
       "<table border=\"1\" class=\"dataframe\">\n",
       "  <thead>\n",
       "    <tr style=\"text-align: right;\">\n",
       "      <th></th>\n",
       "      <th>PRIMARIO</th>\n",
       "      <th>FUERA DE SERVICIO</th>\n",
       "      <th>REPOSICION</th>\n",
       "      <th>TIPO DE EVENTO</th>\n",
       "      <th>ESTADO DEL CLIMA</th>\n",
       "      <th>OBSERVACION</th>\n",
       "      <th>BARRIO</th>\n",
       "      <th>DURACION</th>\n",
       "      <th>DURACION SEGS</th>\n",
       "    </tr>\n",
       "  </thead>\n",
       "  <tbody>\n",
       "    <tr>\n",
       "      <th>0</th>\n",
       "      <td>BCP2</td>\n",
       "      <td>16/12/2020 08:02</td>\n",
       "      <td>16/12/2020 10:02</td>\n",
       "      <td>Accidental</td>\n",
       "      <td>Normal</td>\n",
       "      <td>No establecido.</td>\n",
       "      <td>Bella Vista</td>\n",
       "      <td>0 days 02:00:00</td>\n",
       "      <td>7200</td>\n",
       "    </tr>\n",
       "    <tr>\n",
       "      <th>1</th>\n",
       "      <td>BCP2</td>\n",
       "      <td>16/12/2020 08:02</td>\n",
       "      <td>16/12/2020 10:02</td>\n",
       "      <td>Accidental</td>\n",
       "      <td>Normal</td>\n",
       "      <td>No establecido.</td>\n",
       "      <td>Santo Domingo</td>\n",
       "      <td>0 days 02:00:00</td>\n",
       "      <td>7200</td>\n",
       "    </tr>\n",
       "    <tr>\n",
       "      <th>2</th>\n",
       "      <td>BCP2</td>\n",
       "      <td>16/12/2020 08:02</td>\n",
       "      <td>16/12/2020 10:02</td>\n",
       "      <td>Accidental</td>\n",
       "      <td>Normal</td>\n",
       "      <td>No establecido.</td>\n",
       "      <td>Manorá</td>\n",
       "      <td>0 days 02:00:00</td>\n",
       "      <td>7200</td>\n",
       "    </tr>\n",
       "    <tr>\n",
       "      <th>0</th>\n",
       "      <td>BCP2</td>\n",
       "      <td>16/12/2020 08:05</td>\n",
       "      <td>16/12/2020 10:05</td>\n",
       "      <td>Accidental</td>\n",
       "      <td>Normal</td>\n",
       "      <td>No establecido.</td>\n",
       "      <td>Bella Vista</td>\n",
       "      <td>0 days 02:00:00</td>\n",
       "      <td>7200</td>\n",
       "    </tr>\n",
       "    <tr>\n",
       "      <th>1</th>\n",
       "      <td>BCP2</td>\n",
       "      <td>16/12/2020 08:05</td>\n",
       "      <td>16/12/2020 10:05</td>\n",
       "      <td>Accidental</td>\n",
       "      <td>Normal</td>\n",
       "      <td>No establecido.</td>\n",
       "      <td>Santo Domingo</td>\n",
       "      <td>0 days 02:00:00</td>\n",
       "      <td>7200</td>\n",
       "    </tr>\n",
       "    <tr>\n",
       "      <th>...</th>\n",
       "      <td>...</td>\n",
       "      <td>...</td>\n",
       "      <td>...</td>\n",
       "      <td>...</td>\n",
       "      <td>...</td>\n",
       "      <td>...</td>\n",
       "      <td>...</td>\n",
       "      <td>...</td>\n",
       "      <td>...</td>\n",
       "    </tr>\n",
       "    <tr>\n",
       "      <th>0</th>\n",
       "      <td>VAU5</td>\n",
       "      <td>19/12/2020 23:06</td>\n",
       "      <td>20/12/2020 01:06</td>\n",
       "      <td>Accidental</td>\n",
       "      <td>Adverso</td>\n",
       "      <td>Condiciones Climáticas Adversas.</td>\n",
       "      <td>Hipódromo</td>\n",
       "      <td>0 days 02:00:00</td>\n",
       "      <td>7200</td>\n",
       "    </tr>\n",
       "    <tr>\n",
       "      <th>1</th>\n",
       "      <td>VAU5</td>\n",
       "      <td>19/12/2020 23:06</td>\n",
       "      <td>20/12/2020 01:06</td>\n",
       "      <td>Accidental</td>\n",
       "      <td>Adverso</td>\n",
       "      <td>Condiciones Climáticas Adversas.</td>\n",
       "      <td>Mcal. Estigarribia</td>\n",
       "      <td>0 days 02:00:00</td>\n",
       "      <td>7200</td>\n",
       "    </tr>\n",
       "    <tr>\n",
       "      <th>2</th>\n",
       "      <td>VAU5</td>\n",
       "      <td>19/12/2020 23:06</td>\n",
       "      <td>20/12/2020 01:06</td>\n",
       "      <td>Accidental</td>\n",
       "      <td>Adverso</td>\n",
       "      <td>Condiciones Climáticas Adversas.</td>\n",
       "      <td>Villa Aurelia</td>\n",
       "      <td>0 days 02:00:00</td>\n",
       "      <td>7200</td>\n",
       "    </tr>\n",
       "    <tr>\n",
       "      <th>0</th>\n",
       "      <td>VAU6</td>\n",
       "      <td>3/12/2020 03:01</td>\n",
       "      <td>3/12/2020 03:14</td>\n",
       "      <td>Accidental</td>\n",
       "      <td>Normal</td>\n",
       "      <td>Abierto interruptor para efectuar reparación d...</td>\n",
       "      <td>Mcal. Estigarribia</td>\n",
       "      <td>0 days 00:13:00</td>\n",
       "      <td>780</td>\n",
       "    </tr>\n",
       "    <tr>\n",
       "      <th>0</th>\n",
       "      <td>VAU8</td>\n",
       "      <td>13/12/2020 18:13</td>\n",
       "      <td>13/12/2020 20:05</td>\n",
       "      <td>Accidental</td>\n",
       "      <td>Adverso</td>\n",
       "      <td>Ramas sobre línea MT. Pedro Gelto y Río Yhaguy...</td>\n",
       "      <td>Villa Aurelia</td>\n",
       "      <td>0 days 01:52:00</td>\n",
       "      <td>6720</td>\n",
       "    </tr>\n",
       "  </tbody>\n",
       "</table>\n",
       "<p>372 rows × 9 columns</p>\n",
       "</div>"
      ],
      "text/plain": [
       "   PRIMARIO FUERA DE SERVICIO        REPOSICION TIPO DE EVENTO  \\\n",
       "0      BCP2  16/12/2020 08:02  16/12/2020 10:02     Accidental   \n",
       "1      BCP2  16/12/2020 08:02  16/12/2020 10:02     Accidental   \n",
       "2      BCP2  16/12/2020 08:02  16/12/2020 10:02     Accidental   \n",
       "0      BCP2  16/12/2020 08:05  16/12/2020 10:05     Accidental   \n",
       "1      BCP2  16/12/2020 08:05  16/12/2020 10:05     Accidental   \n",
       "..      ...               ...               ...            ...   \n",
       "0      VAU5  19/12/2020 23:06  20/12/2020 01:06     Accidental   \n",
       "1      VAU5  19/12/2020 23:06  20/12/2020 01:06     Accidental   \n",
       "2      VAU5  19/12/2020 23:06  20/12/2020 01:06     Accidental   \n",
       "0      VAU6   3/12/2020 03:01   3/12/2020 03:14     Accidental   \n",
       "0      VAU8  13/12/2020 18:13  13/12/2020 20:05     Accidental   \n",
       "\n",
       "   ESTADO DEL CLIMA                                        OBSERVACION  \\\n",
       "0            Normal                                    No establecido.   \n",
       "1            Normal                                    No establecido.   \n",
       "2            Normal                                    No establecido.   \n",
       "0            Normal                                    No establecido.   \n",
       "1            Normal                                    No establecido.   \n",
       "..              ...                                                ...   \n",
       "0           Adverso                   Condiciones Climáticas Adversas.   \n",
       "1           Adverso                   Condiciones Climáticas Adversas.   \n",
       "2           Adverso                   Condiciones Climáticas Adversas.   \n",
       "0            Normal  Abierto interruptor para efectuar reparación d...   \n",
       "0           Adverso  Ramas sobre línea MT. Pedro Gelto y Río Yhaguy...   \n",
       "\n",
       "                BARRIO        DURACION  DURACION SEGS  \n",
       "0          Bella Vista 0 days 02:00:00           7200  \n",
       "1        Santo Domingo 0 days 02:00:00           7200  \n",
       "2               Manorá 0 days 02:00:00           7200  \n",
       "0          Bella Vista 0 days 02:00:00           7200  \n",
       "1        Santo Domingo 0 days 02:00:00           7200  \n",
       "..                 ...             ...            ...  \n",
       "0            Hipódromo 0 days 02:00:00           7200  \n",
       "1   Mcal. Estigarribia 0 days 02:00:00           7200  \n",
       "2        Villa Aurelia 0 days 02:00:00           7200  \n",
       "0   Mcal. Estigarribia 0 days 00:13:00            780  \n",
       "0        Villa Aurelia 0 days 01:52:00           6720  \n",
       "\n",
       "[372 rows x 9 columns]"
      ]
     },
     "execution_count": 15,
     "metadata": {},
     "output_type": "execute_result"
    }
   ],
   "source": [
    "df1"
   ]
  },
  {
   "cell_type": "code",
   "execution_count": 17,
   "id": "available-banner",
   "metadata": {},
   "outputs": [
    {
     "data": {
      "text/html": [
       "<div>\n",
       "<style scoped>\n",
       "    .dataframe tbody tr th:only-of-type {\n",
       "        vertical-align: middle;\n",
       "    }\n",
       "\n",
       "    .dataframe tbody tr th {\n",
       "        vertical-align: top;\n",
       "    }\n",
       "\n",
       "    .dataframe thead th {\n",
       "        text-align: right;\n",
       "    }\n",
       "</style>\n",
       "<table border=\"1\" class=\"dataframe\">\n",
       "  <thead>\n",
       "    <tr style=\"text-align: right;\">\n",
       "      <th></th>\n",
       "      <th>PRIMARIO</th>\n",
       "      <th>FUERA DE SERVICIO</th>\n",
       "      <th>REPOSICION</th>\n",
       "      <th>TIPO DE EVENTO</th>\n",
       "      <th>ESTADO DEL CLIMA</th>\n",
       "      <th>OBSERVACION</th>\n",
       "      <th>BARRIO</th>\n",
       "      <th>DURACION</th>\n",
       "      <th>DURACION SEGS</th>\n",
       "    </tr>\n",
       "  </thead>\n",
       "  <tbody>\n",
       "  </tbody>\n",
       "</table>\n",
       "</div>"
      ],
      "text/plain": [
       "Empty DataFrame\n",
       "Columns: [PRIMARIO, FUERA DE SERVICIO, REPOSICION, TIPO DE EVENTO, ESTADO DEL CLIMA, OBSERVACION, BARRIO, DURACION, DURACION SEGS]\n",
       "Index: []"
      ]
     },
     "execution_count": 17,
     "metadata": {},
     "output_type": "execute_result"
    }
   ],
   "source": [
    "aux4 = df1.sort_values(by=['BARRIO'], ascending=False)\n",
    "aux4.loc[aux4.BARRIO == \"\"]"
   ]
  },
  {
   "cell_type": "code",
   "execution_count": 18,
   "id": "driving-nitrogen",
   "metadata": {},
   "outputs": [],
   "source": [
    "AUX = df1.groupby(['TIPO DE EVENTO', 'BARRIO'])['BARRIO'].count()"
   ]
  },
  {
   "cell_type": "code",
   "execution_count": 19,
   "id": "suited-medication",
   "metadata": {},
   "outputs": [
    {
     "data": {
      "text/plain": [
       "TIPO DE EVENTO  BARRIO          \n",
       "Accidental      Ita Pyta Punta      17\n",
       "                Mburucuyá           16\n",
       "                Madame Lynch        14\n",
       "                Pirizal             13\n",
       "                Pinoza              13\n",
       "                                    ..\n",
       "                San Cristóbal        2\n",
       "                Jara                 1\n",
       "                Tembetary            1\n",
       "                Tablada Nueva        1\n",
       "                Banco San Miguel     1\n",
       "Name: BARRIO, Length: 64, dtype: int64"
      ]
     },
     "execution_count": 19,
     "metadata": {},
     "output_type": "execute_result"
    }
   ],
   "source": [
    "AUX[[\"Accidental\"]].sort_values(ascending=False)"
   ]
  },
  {
   "cell_type": "code",
   "execution_count": null,
   "id": "killing-strategy",
   "metadata": {},
   "outputs": [],
   "source": [
    "AUX[[\"Programado\"]].sort_values(ascending=False)"
   ]
  },
  {
   "cell_type": "code",
   "execution_count": null,
   "id": "effective-structure",
   "metadata": {},
   "outputs": [],
   "source": [
    "aux3 = df1[['BARRIO', 'DURACION']]"
   ]
  },
  {
   "cell_type": "code",
   "execution_count": null,
   "id": "ordinary-convert",
   "metadata": {},
   "outputs": [],
   "source": [
    "aux4 = df1.sort_values(by=['DURACION'], ascending=False)"
   ]
  },
  {
   "cell_type": "code",
   "execution_count": null,
   "id": "fuzzy-bundle",
   "metadata": {},
   "outputs": [],
   "source": [
    "aux4.sort_values(by=[\"DURACION\"], ascending=False)"
   ]
  },
  {
   "cell_type": "code",
   "execution_count": null,
   "id": "integral-character",
   "metadata": {},
   "outputs": [],
   "source": [
    "aux4.loc[(aux4[\"REPOSICIONN\"]==\"Recierre\") & (aux4[\"FUERA DE SERVICIO\"].str.contains(\"10/01/2020\"))]"
   ]
  },
  {
   "cell_type": "code",
   "execution_count": null,
   "id": "surprised-compact",
   "metadata": {},
   "outputs": [],
   "source": [
    "aux4.loc[(aux4[\"FUERA DE SERVICIO\"].str.contains(\"31/01/2020\"))]"
   ]
  },
  {
   "cell_type": "code",
   "execution_count": null,
   "id": "compliant-phrase",
   "metadata": {},
   "outputs": [],
   "source": [
    "tdelta2 = pd.to_datetime(\"7/01/2020 01:12\", format=\"%d/%m/%Y %H:%M\") - pd.to_datetime(\"6/01/2020 23:54\", format=\"%d/%m/%Y %H:%M\")\n",
    "tdelta2"
   ]
  },
  {
   "cell_type": "code",
   "execution_count": null,
   "id": "changed-recorder",
   "metadata": {},
   "outputs": [],
   "source": [
    "pd.to_datetime(\"7/01/2020 01:12\", format=\"%d/%m/%Y %H:%M\")"
   ]
  },
  {
   "cell_type": "code",
   "execution_count": null,
   "id": "available-fiction",
   "metadata": {},
   "outputs": [],
   "source": []
  }
 ],
 "metadata": {
  "kernelspec": {
   "display_name": "Python 3",
   "language": "python",
   "name": "python3"
  },
  "language_info": {
   "codemirror_mode": {
    "name": "ipython",
    "version": 3
   },
   "file_extension": ".py",
   "mimetype": "text/x-python",
   "name": "python",
   "nbconvert_exporter": "python",
   "pygments_lexer": "ipython3",
   "version": "3.6.12"
  }
 },
 "nbformat": 4,
 "nbformat_minor": 5
}
