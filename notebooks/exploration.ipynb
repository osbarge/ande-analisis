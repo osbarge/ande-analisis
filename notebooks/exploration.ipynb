{
 "cells": [
  {
   "cell_type": "code",
   "execution_count": null,
   "id": "meaningful-reggae",
   "metadata": {},
   "outputs": [],
   "source": [
    "import pandas as pd"
   ]
  },
  {
   "cell_type": "code",
   "execution_count": null,
   "id": "yellow-dover",
   "metadata": {},
   "outputs": [],
   "source": [
    "csv_columns = ['PRIMARIO', 'FUERA DE SERVICIO', 'REPOSICION', 'TIPO DE EVENTO', 'ESTADO DEL CLIMA', 'OBSERVACION']"
   ]
  },
  {
   "cell_type": "code",
   "execution_count": null,
   "id": "centered-copying",
   "metadata": {},
   "outputs": [],
   "source": [
    "# leer archivos\n",
    "df1 = pd.read_csv(r\"../data/202001.csv\", encoding=\"ISO-8859-1\")"
   ]
  },
  {
   "cell_type": "code",
   "execution_count": null,
   "id": "virtual-contest",
   "metadata": {},
   "outputs": [],
   "source": [
    "# Transformar datasets\n",
    "df1n = df1.BARRIOS.str.rstrip(',').str.split(',').apply(pd.Series)    # break df.BARRIOS into columns\n",
    "df1n.index = df1.set_index(csv_columns).index\n",
    "df1 = df1n.stack().reset_index(csv_columns)    # stack and reset_index\n",
    "df1.columns = csv_columns  + ['BARRIO']"
   ]
  },
  {
   "cell_type": "code",
   "execution_count": null,
   "id": "increased-calculation",
   "metadata": {},
   "outputs": [],
   "source": [
    "df1['DURACION'] = df1[[\"FUERA DE SERVICIO\", \"REPOSICION\"]].apply(lambda x: (pd.to_datetime(x[1], format=\"%d/%m/%Y %H:%M\", errors='coerce') - pd.to_datetime(x[0], format=\"%d/%m/%Y %H:%M\", errors='coerce')), axis=1)"
   ]
  },
  {
   "cell_type": "code",
   "execution_count": null,
   "id": "finished-neutral",
   "metadata": {},
   "outputs": [],
   "source": [
    "# Normalizar BARRIO\n",
    "df1['BARRIO'] = df1['BARRIO'].apply(lambda x: x.replace(\"\\r\", \" \"))\n",
    "df1['BARRIO'] = df1['BARRIO'].apply(lambda x: x.strip())\n",
    "df1['BARRIO'] = df1['BARRIO'].apply(lambda x: x.replace(\"Hiódromo.\", \"Hipódromo\"))\n",
    "df1['BARRIO'] = df1['BARRIO'].apply(lambda x: x.replace(\"Madame Lych\", \"Madame Lynch\"))\n",
    "df1['BARRIO'] = df1['BARRIO'].apply(lambda x: x.replace(\"Dr. Gaspar R. de Francia\", \"Dr. Gaspar Rodriguez de Francia\"))\n",
    "df1['BARRIO'] = df1['BARRIO'].apply(lambda x: x.replace(\"Mcal. Francisco.S. López\", \"Mcal. Francisco. S. López\"))\n",
    "df1['BARRIO'] = df1['BARRIO'].apply(lambda x: x.replace(\"Mbocayty\", \"Mbocayaty\"))\n",
    "df1['BARRIO'] = df1['BARRIO'].apply(lambda x: x.replace(\"Cañada de Ybyray\", \"Cañada Ybyray\"))\n",
    "df1['BARRIO'] = df1['BARRIO'].apply(lambda x: x.replace(\"Nazaret\", \"Nazareth\"))\n",
    "df1['BARRIO'] = df1['BARRIO'].apply(lambda x: x.replace(\"Nazarethh\", \"Nazareth\"))\n",
    "df1['BARRIO'] = df1['BARRIO'].apply(lambda x: x.replace(\"Carlos. A. López\", \"Carlos A. López\"))\n",
    "df1['BARRIO'] = df1['BARRIO'].apply(lambda x: x.rstrip(\".\"))\n"
   ]
  },
  {
   "cell_type": "code",
   "execution_count": null,
   "id": "advanced-reward",
   "metadata": {},
   "outputs": [],
   "source": [
    "# Agregar Duración en Segundos\n",
    "df1['DURACION SEGS'] = df1['DURACION'].apply(lambda x: x.seconds)"
   ]
  },
  {
   "cell_type": "code",
   "execution_count": null,
   "id": "practical-cincinnati",
   "metadata": {},
   "outputs": [],
   "source": [
    "df1"
   ]
  },
  {
   "cell_type": "code",
   "execution_count": null,
   "id": "hazardous-compromise",
   "metadata": {},
   "outputs": [],
   "source": []
  },
  {
   "cell_type": "code",
   "execution_count": null,
   "id": "private-means",
   "metadata": {},
   "outputs": [],
   "source": [
    "aux = list(df1['BARRIO'].unique())"
   ]
  },
  {
   "cell_type": "code",
   "execution_count": null,
   "id": "available-banner",
   "metadata": {},
   "outputs": [],
   "source": []
  },
  {
   "cell_type": "code",
   "execution_count": null,
   "id": "driving-nitrogen",
   "metadata": {},
   "outputs": [],
   "source": [
    "AUX = df1.groupby(['TIPO DE EVENTO', 'BARRIO'])['BARRIO'].count()"
   ]
  },
  {
   "cell_type": "code",
   "execution_count": null,
   "id": "suited-medication",
   "metadata": {},
   "outputs": [],
   "source": [
    "AUX[[\"Accidental\"]].sort_values(ascending=False)"
   ]
  },
  {
   "cell_type": "code",
   "execution_count": null,
   "id": "killing-strategy",
   "metadata": {},
   "outputs": [],
   "source": [
    "AUX[[\"Programado\"]].sort_values(ascending=False)"
   ]
  },
  {
   "cell_type": "code",
   "execution_count": null,
   "id": "effective-structure",
   "metadata": {},
   "outputs": [],
   "source": [
    "aux3 = df1[['BARRIO', 'DURACION']]"
   ]
  },
  {
   "cell_type": "code",
   "execution_count": null,
   "id": "ordinary-convert",
   "metadata": {},
   "outputs": [],
   "source": [
    "aux4 = df1.sort_values(by=['DURACION'], ascending=False)"
   ]
  },
  {
   "cell_type": "code",
   "execution_count": null,
   "id": "certified-injury",
   "metadata": {},
   "outputs": [],
   "source": []
  },
  {
   "cell_type": "code",
   "execution_count": null,
   "id": "fuzzy-bundle",
   "metadata": {},
   "outputs": [],
   "source": [
    "aux4.sort_values(by=[\"DURACION\"], ascending=False)"
   ]
  },
  {
   "cell_type": "code",
   "execution_count": null,
   "id": "integral-character",
   "metadata": {},
   "outputs": [],
   "source": [
    "aux4.loc[(aux4[\"REPOSICIONN\"]==\"Recierre\") & (aux4[\"FUERA DE SERVICIO\"].str.contains(\"10/01/2020\"))]"
   ]
  },
  {
   "cell_type": "code",
   "execution_count": null,
   "id": "surprised-compact",
   "metadata": {},
   "outputs": [],
   "source": [
    "aux4.loc[(aux4[\"FUERA DE SERVICIO\"].str.contains(\"31/01/2020\"))]"
   ]
  },
  {
   "cell_type": "code",
   "execution_count": null,
   "id": "compliant-phrase",
   "metadata": {},
   "outputs": [],
   "source": [
    "tdelta2 = pd.to_datetime(\"7/01/2020 01:12\", format=\"%d/%m/%Y %H:%M\") - pd.to_datetime(\"6/01/2020 23:54\", format=\"%d/%m/%Y %H:%M\")\n",
    "tdelta2"
   ]
  },
  {
   "cell_type": "code",
   "execution_count": null,
   "id": "changed-recorder",
   "metadata": {},
   "outputs": [],
   "source": [
    "pd.to_datetime(\"7/01/2020 01:12\", format=\"%d/%m/%Y %H:%M\")"
   ]
  },
  {
   "cell_type": "code",
   "execution_count": null,
   "id": "available-fiction",
   "metadata": {},
   "outputs": [],
   "source": []
  }
 ],
 "metadata": {
  "kernelspec": {
   "display_name": "Python 3",
   "language": "python",
   "name": "python3"
  },
  "language_info": {
   "codemirror_mode": {
    "name": "ipython",
    "version": 3
   },
   "file_extension": ".py",
   "mimetype": "text/x-python",
   "name": "python",
   "nbconvert_exporter": "python",
   "pygments_lexer": "ipython3",
   "version": "3.6.12"
  }
 },
 "nbformat": 4,
 "nbformat_minor": 5
}
